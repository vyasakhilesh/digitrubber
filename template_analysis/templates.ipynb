{
 "cells": [
  {
   "cell_type": "code",
   "execution_count": null,
   "id": "f309430e-d5c5-4141-8e85-72424778b25f",
   "metadata": {
    "tags": []
   },
   "outputs": [],
   "source": [
    "import pandas as pd\n",
    "import numpy as np\n",
    "from pathlib import Path"
   ]
  },
  {
   "cell_type": "code",
   "execution_count": null,
   "id": "c48bddff-a79c-423d-8531-eba29edc894a",
   "metadata": {
    "tags": []
   },
   "outputs": [],
   "source": [
    "# settings\n",
    "pd.options.display.max_columns=1000\n",
    "pd.options.display.max_colwidth=None\n",
    "pd.options.display.max_rows=100\n",
    "\n",
    "# path\n",
    "temp_dir = Path('../src/templates/')\n",
    "temp_dir.absolute()"
   ]
  },
  {
   "cell_type": "code",
   "execution_count": null,
   "id": "aebf51b9-335c-40e7-98bd-cf8160dd6518",
   "metadata": {
    "scrolled": true,
    "tags": []
   },
   "outputs": [],
   "source": [
    "# template_path\n",
    "df_dik_excel = pd.read_excel('./excels/dict_dik_v3.xlsx').dropna(axis=0, how='all')\n",
    "df_dik_excel = df_dik_excel.dropna(axis=1, how='all')\n",
    "df_dik_csvs = pd.read_csv('./csvs/dik_template_16_09.csv', encoding='utf-8').dropna(axis=0, how='all')\n",
    "df_dik_csvs = df_dik_csvs.dropna(axis=1, how='all')\n",
    "df_dik_excel.columns, df_dik_csvs.columns"
   ]
  },
  {
   "cell_type": "code",
   "execution_count": null,
   "id": "069004f5-bd84-499d-b434-0fcde0096719",
   "metadata": {
    "tags": []
   },
   "outputs": [],
   "source": [
    "# A+B-(AandB)\n",
    "df_dik_excel_label_list = df_dik_excel.sort_values(by='label\\' [http://www.w3.org/2000/01/rdf-schema#label]')['label\\' [http://www.w3.org/2000/01/rdf-schema#label]'].tolist()\n",
    "df_dik_csvs_label_list = df_dik_csvs.sort_values(by='Label')['Label'].tolist()\n",
    "\n",
    "df_dik_excel_label_list_sorted = sorted([i for i in df_dik_excel_label_list if i is not np.NaN], key=str.lower)\n",
    "\n",
    "# list of closest terms\n",
    "def find_close_labels(i, l):\n",
    "    close_label_list = [ for i in l]\n",
    "    return (i, close_label_list)\n",
    "    \n",
    "[for i in df_dik_excel_label_list_sorted "
   ]
  },
  {
   "cell_type": "code",
   "execution_count": null,
   "id": "285c05bb-2a92-4920-aac5-48d2981399b9",
   "metadata": {},
   "outputs": [],
   "source": []
  }
 ],
 "metadata": {
  "kernelspec": {
   "display_name": "Python 3 (ipykernel)",
   "language": "python",
   "name": "python3"
  },
  "language_info": {
   "codemirror_mode": {
    "name": "ipython",
    "version": 3
   },
   "file_extension": ".py",
   "mimetype": "text/x-python",
   "name": "python",
   "nbconvert_exporter": "python",
   "pygments_lexer": "ipython3",
   "version": "3.11.2"
  }
 },
 "nbformat": 4,
 "nbformat_minor": 5
}
