{
 "cells": [
  {
   "cell_type": "code",
   "execution_count": 1,
   "id": "f309430e-d5c5-4141-8e85-72424778b25f",
   "metadata": {
    "tags": []
   },
   "outputs": [],
   "source": [
    "import pandas as pd\n",
    "import numpy as np\n",
    "from pathlib import Path\n",
    "from nltk import word_tokenize\n",
    "from Levenshtein import distance\n",
    "import re"
   ]
  },
  {
   "cell_type": "code",
   "execution_count": 2,
   "id": "c48bddff-a79c-423d-8531-eba29edc894a",
   "metadata": {
    "tags": []
   },
   "outputs": [
    {
     "data": {
      "text/plain": [
       "PosixPath('/home/avyas/projects/project_off/digitrubber/template_analysis/../src/templates')"
      ]
     },
     "execution_count": 2,
     "metadata": {},
     "output_type": "execute_result"
    }
   ],
   "source": [
    "# settings\n",
    "pd.options.display.max_columns=1000\n",
    "pd.options.display.max_colwidth=None\n",
    "pd.options.display.max_rows=100\n",
    "\n",
    "# path\n",
    "temp_dir = Path('../src/templates/')\n",
    "temp_dir.absolute()"
   ]
  },
  {
   "cell_type": "code",
   "execution_count": 43,
   "id": "aebf51b9-335c-40e7-98bd-cf8160dd6518",
   "metadata": {
    "scrolled": true,
    "tags": []
   },
   "outputs": [],
   "source": [
    "# jaccard distance\n",
    "def jaccard_similarity(list1, list2):\n",
    "    intersection = len(list(set(list1).intersection(list2)))\n",
    "    union = (len(list1) + len(list2)) - intersection\n",
    "    return float(intersection) / union\n",
    "\n",
    "# list of closest labels\n",
    "def measure_similarity(text1, text2):\n",
    "    if type(text1) ==  str and type(text2) ==str:\n",
    "        text1 = text1.strip().lower()\n",
    "        text2 = re.sub('\\[.*\\]', '', text2).strip().lower()\n",
    "        s1 = jaccard_similarity(word_tokenize(text1), word_tokenize(text2)) > 0.8\n",
    "        s2 = distance(text1.lower(), text2.lower()) < 4\n",
    "        return (s1, s2)\n",
    "    else:\n",
    "        return False\n",
    "\n",
    "def measure_similarity1(text1, text2):\n",
    "    if type(text1) ==  str and type(text2) ==str:\n",
    "        text1 = text1.strip().lower()\n",
    "        text2 = text2.strip().lower()\n",
    "        s1 = jaccard_similarity(word_tokenize(text1), word_tokenize(text2)) > 0.8\n",
    "        s2 = distance(text1.lower(), text2.lower()) < 4\n",
    "        return (s1, s2)\n",
    "    else:\n",
    "        return False\n",
    "\n",
    "def is_close_labels(text, text_l, func):\n",
    "    close_label_list = [i for i in text_l if any(func(text, i))]\n",
    "    return False if len(close_label_list) > 0 else True\n",
    "\n",
    "def find_very_close_labels(text, text_l, func):\n",
    "    close_label_list = [i for i in text_l if all(func(text, i))]\n",
    "    return close_label_list if len(close_label_list) > 0 else np.nan\n",
    "\n",
    "def find_close_labels(text, text_l, func):\n",
    "    close_label_list = [i for i in text_l if any(func(text, i))]\n",
    "    return close_label_list if len(close_label_list) > 0 else np.nan\n",
    "    \n",
    "def read_excel(excel_file):\n",
    "    df_excel = pd.read_excel(excel_file, header=1).dropna(axis=0, how='all')\n",
    "    df_excel = df_excel.dropna(axis=1, how='all')\n",
    "    return df_excel\n",
    "\n",
    "def read_csv(csv_file):\n",
    "    df_csv = pd.read_csv(csv_file, encoding='utf-8').dropna(axis=0, how='all')\n",
    "    df_csv = df_csv.dropna(axis=1, how='all')\n",
    "    return df_csv\n",
    "    \n",
    "\n",
    "def add_close_labels(df_excel, df_csv, csv_close_label, label_excel='Label', label_csv='Label', func=measure_similarity):\n",
    "    # preprocessing files\n",
    "    df_excel[label_excel] = df_excel[label_excel].fillna(method='ffill')\n",
    "    df_excel['Missing'] = df_excel[label_excel]\\\n",
    "                              .apply(is_close_labels, args=(df_csv[label_csv],func))\n",
    "    \n",
    "    df_excel['VeryCloseLabelStrings'] = df_excel[label_excel]\\\n",
    "                              .apply(find_very_close_labels, args=(df_csv[label_csv],func))\n",
    "    \n",
    "    df_excel['CloseLabelStrings'] = df_excel[label_excel]\\\n",
    "                              .apply(find_close_labels, args=(df_csv[label_csv],func))\n",
    "    columns = df_excel.columns.tolist()\n",
    "    df_excel = df_excel[columns[0:1]+ columns[-3:]+columns[1:-3]]\n",
    "\n",
    "    df_excel.to_csv(csv_close_label, encoding='utf-8', index=False)\n"
   ]
  },
  {
   "cell_type": "code",
   "execution_count": 45,
   "id": "b700be7e-34a1-490c-9315-5005e82748d3",
   "metadata": {
    "tags": []
   },
   "outputs": [],
   "source": [
    "# excel and template files path\n",
    "excel_file1 = './excels/dict_dik_v3.xlsx'\n",
    "csv_file1 = './csvs/dik_template_16_09.csv' \n",
    "csv_close_label1 = './csvs_close_label/dik_v3_template_16_09.csv'\n",
    "# add_close_labels(read_excel(excel_file1), read_csv(csv_file1), csv_close_label1, 'Label [English]')\n",
    "\n",
    "# excel and template files path\n",
    "excel_file2 = './excels/dict_hsh_V2.xlsx'\n",
    "csv_file2 = './csvs/robot_hsh_template_13_09.csv' \n",
    "csv_close_label2 = './csvs_close_label/hsh_v2_template_13_09.csv'\n",
    "# add_close_labels(excel_file2, csv_file2, csv_close_label2)\n",
    "\n",
    "# excel and template files path\n",
    "excel_file3 = './excels/dict_ifnano_V2.xlsx'\n",
    "csv_file3 = './csvs/robot_ifnano_template_30_08.csv' \n",
    "csv_close_label3 = './csvs_close_label/infnano_v2_template_30_08.csv'\n",
    "# add_close_labels(excel_file3, csv_file3, csv_close_label3)\n",
    "\n",
    "# excel and template files path\n",
    "excel_file4 = './excels/dict_imr_V2.xlsx'\n",
    "csv_file4 = './csvs/robot_imr_template_08_09.csv' \n",
    "csv_close_label4 = './csvs_close_label/imr_v2_template_08_09.csv'\n",
    "# add_close_labels(excel_file4, csv_file4, csv_close_label4)\n",
    "\n",
    "# excel and template files path\n",
    "excel_file5 = './excels/dict_ita_V2.xlsx'\n",
    "csv_file5 = './csvs/robot_ita_template_02_06.csv' \n",
    "csv_close_label5 = './csvs_close_label/ita_v2_template_02_06.csv'\n",
    "# add_close_labels(excel_file5, csv_file5, csv_close_label5)\n",
    "\n",
    "# excel and template files path\n",
    "excel_file6 = './excels/dict_jade_V2.xlsx'\n",
    "csv_file6 = './csvs/robot_jade_template_09_06.csv' \n",
    "csv_close_label6 = './csvs_close_label/jade_v2_template_09_06.csv'\n",
    "add_close_labels(read_excel(excel_file6), read_csv(csv_file6), csv_close_label6)"
   ]
  },
  {
   "cell_type": "code",
   "execution_count": 47,
   "id": "48cd8151-5410-458e-a1f6-d9de61e2c123",
   "metadata": {
    "tags": []
   },
   "outputs": [
    {
     "ename": "TypeError",
     "evalue": "'bool' object is not iterable",
     "output_type": "error",
     "traceback": [
      "\u001b[0;31m---------------------------------------------------------------------------\u001b[0m",
      "\u001b[0;31mTypeError\u001b[0m                                 Traceback (most recent call last)",
      "Cell \u001b[0;32mIn[47], line 14\u001b[0m\n\u001b[1;32m     12\u001b[0m merged_csv_luis \u001b[38;5;241m=\u001b[39m \u001b[38;5;124m'\u001b[39m\u001b[38;5;124m./csvs/digitrubber_robot_v4.csv\u001b[39m\u001b[38;5;124m'\u001b[39m\n\u001b[1;32m     13\u001b[0m csv_close_label7 \u001b[38;5;241m=\u001b[39m \u001b[38;5;124m'\u001b[39m\u001b[38;5;124m./csvs_close_label/merged_csv_digitrubber_robot_v4.csv\u001b[39m\u001b[38;5;124m'\u001b[39m\n\u001b[0;32m---> 14\u001b[0m \u001b[43madd_close_labels\u001b[49m\u001b[43m(\u001b[49m\u001b[43mread_csv\u001b[49m\u001b[43m(\u001b[49m\u001b[43mmerged_csv_akh\u001b[49m\u001b[43m)\u001b[49m\u001b[43m,\u001b[49m\u001b[43m \u001b[49m\u001b[43mread_csv\u001b[49m\u001b[43m(\u001b[49m\u001b[43mmerged_csv_luis\u001b[49m\u001b[43m)\u001b[49m\u001b[43m,\u001b[49m\u001b[43m \u001b[49m\u001b[43mcsv_close_label7\u001b[49m\u001b[43m,\u001b[49m\u001b[43m \u001b[49m\u001b[43mfunc\u001b[49m\u001b[38;5;241;43m=\u001b[39;49m\u001b[43mmeasure_similarity1\u001b[49m\u001b[43m)\u001b[49m\n",
      "Cell \u001b[0;32mIn[43], line 55\u001b[0m, in \u001b[0;36madd_close_labels\u001b[0;34m(df_excel, df_csv, csv_close_label, label_excel, label_csv, func)\u001b[0m\n\u001b[1;32m     51\u001b[0m \u001b[38;5;28;01mdef\u001b[39;00m \u001b[38;5;21madd_close_labels\u001b[39m(df_excel, df_csv, csv_close_label, label_excel\u001b[38;5;241m=\u001b[39m\u001b[38;5;124m'\u001b[39m\u001b[38;5;124mLabel\u001b[39m\u001b[38;5;124m'\u001b[39m, label_csv\u001b[38;5;241m=\u001b[39m\u001b[38;5;124m'\u001b[39m\u001b[38;5;124mLabel\u001b[39m\u001b[38;5;124m'\u001b[39m, func\u001b[38;5;241m=\u001b[39mmeasure_similarity):\n\u001b[1;32m     52\u001b[0m     \u001b[38;5;66;03m# preprocessing files\u001b[39;00m\n\u001b[1;32m     53\u001b[0m     df_excel[label_excel] \u001b[38;5;241m=\u001b[39m df_excel[label_excel]\u001b[38;5;241m.\u001b[39mfillna(method\u001b[38;5;241m=\u001b[39m\u001b[38;5;124m'\u001b[39m\u001b[38;5;124mffill\u001b[39m\u001b[38;5;124m'\u001b[39m)\n\u001b[1;32m     54\u001b[0m     df_excel[\u001b[38;5;124m'\u001b[39m\u001b[38;5;124mMissing\u001b[39m\u001b[38;5;124m'\u001b[39m] \u001b[38;5;241m=\u001b[39m \u001b[43mdf_excel\u001b[49m\u001b[43m[\u001b[49m\u001b[43mlabel_excel\u001b[49m\u001b[43m]\u001b[49m\u001b[43m\\\u001b[49m\n\u001b[0;32m---> 55\u001b[0m \u001b[43m                              \u001b[49m\u001b[38;5;241;43m.\u001b[39;49m\u001b[43mapply\u001b[49m\u001b[43m(\u001b[49m\u001b[43mis_close_labels\u001b[49m\u001b[43m,\u001b[49m\u001b[43m \u001b[49m\u001b[43margs\u001b[49m\u001b[38;5;241;43m=\u001b[39;49m\u001b[43m(\u001b[49m\u001b[43mdf_csv\u001b[49m\u001b[43m[\u001b[49m\u001b[43mlabel_csv\u001b[49m\u001b[43m]\u001b[49m\u001b[43m,\u001b[49m\u001b[43mfunc\u001b[49m\u001b[43m)\u001b[49m\u001b[43m)\u001b[49m\n\u001b[1;32m     57\u001b[0m     df_excel[\u001b[38;5;124m'\u001b[39m\u001b[38;5;124mVeryCloseLabelStrings\u001b[39m\u001b[38;5;124m'\u001b[39m] \u001b[38;5;241m=\u001b[39m df_excel[label_excel]\\\n\u001b[1;32m     58\u001b[0m                               \u001b[38;5;241m.\u001b[39mapply(find_very_close_labels, args\u001b[38;5;241m=\u001b[39m(df_csv[label_csv],func))\n\u001b[1;32m     60\u001b[0m     df_excel[\u001b[38;5;124m'\u001b[39m\u001b[38;5;124mCloseLabelStrings\u001b[39m\u001b[38;5;124m'\u001b[39m] \u001b[38;5;241m=\u001b[39m df_excel[label_excel]\\\n\u001b[1;32m     61\u001b[0m                               \u001b[38;5;241m.\u001b[39mapply(find_close_labels, args\u001b[38;5;241m=\u001b[39m(df_csv[label_csv],func))\n",
      "File \u001b[0;32m~/miniconda3/envs/digitrubber/lib/python3.11/site-packages/pandas/core/series.py:4631\u001b[0m, in \u001b[0;36mSeries.apply\u001b[0;34m(self, func, convert_dtype, args, **kwargs)\u001b[0m\n\u001b[1;32m   4521\u001b[0m \u001b[38;5;28;01mdef\u001b[39;00m \u001b[38;5;21mapply\u001b[39m(\n\u001b[1;32m   4522\u001b[0m     \u001b[38;5;28mself\u001b[39m,\n\u001b[1;32m   4523\u001b[0m     func: AggFuncType,\n\u001b[0;32m   (...)\u001b[0m\n\u001b[1;32m   4526\u001b[0m     \u001b[38;5;241m*\u001b[39m\u001b[38;5;241m*\u001b[39mkwargs,\n\u001b[1;32m   4527\u001b[0m ) \u001b[38;5;241m-\u001b[39m\u001b[38;5;241m>\u001b[39m DataFrame \u001b[38;5;241m|\u001b[39m Series:\n\u001b[1;32m   4528\u001b[0m \u001b[38;5;250m    \u001b[39m\u001b[38;5;124;03m\"\"\"\u001b[39;00m\n\u001b[1;32m   4529\u001b[0m \u001b[38;5;124;03m    Invoke function on values of Series.\u001b[39;00m\n\u001b[1;32m   4530\u001b[0m \n\u001b[0;32m   (...)\u001b[0m\n\u001b[1;32m   4629\u001b[0m \u001b[38;5;124;03m    dtype: float64\u001b[39;00m\n\u001b[1;32m   4630\u001b[0m \u001b[38;5;124;03m    \"\"\"\u001b[39;00m\n\u001b[0;32m-> 4631\u001b[0m     \u001b[38;5;28;01mreturn\u001b[39;00m \u001b[43mSeriesApply\u001b[49m\u001b[43m(\u001b[49m\u001b[38;5;28;43mself\u001b[39;49m\u001b[43m,\u001b[49m\u001b[43m \u001b[49m\u001b[43mfunc\u001b[49m\u001b[43m,\u001b[49m\u001b[43m \u001b[49m\u001b[43mconvert_dtype\u001b[49m\u001b[43m,\u001b[49m\u001b[43m \u001b[49m\u001b[43margs\u001b[49m\u001b[43m,\u001b[49m\u001b[43m \u001b[49m\u001b[43mkwargs\u001b[49m\u001b[43m)\u001b[49m\u001b[38;5;241;43m.\u001b[39;49m\u001b[43mapply\u001b[49m\u001b[43m(\u001b[49m\u001b[43m)\u001b[49m\n",
      "File \u001b[0;32m~/miniconda3/envs/digitrubber/lib/python3.11/site-packages/pandas/core/apply.py:1025\u001b[0m, in \u001b[0;36mSeriesApply.apply\u001b[0;34m(self)\u001b[0m\n\u001b[1;32m   1022\u001b[0m     \u001b[38;5;28;01mreturn\u001b[39;00m \u001b[38;5;28mself\u001b[39m\u001b[38;5;241m.\u001b[39mapply_str()\n\u001b[1;32m   1024\u001b[0m \u001b[38;5;66;03m# self.f is Callable\u001b[39;00m\n\u001b[0;32m-> 1025\u001b[0m \u001b[38;5;28;01mreturn\u001b[39;00m \u001b[38;5;28;43mself\u001b[39;49m\u001b[38;5;241;43m.\u001b[39;49m\u001b[43mapply_standard\u001b[49m\u001b[43m(\u001b[49m\u001b[43m)\u001b[49m\n",
      "File \u001b[0;32m~/miniconda3/envs/digitrubber/lib/python3.11/site-packages/pandas/core/apply.py:1076\u001b[0m, in \u001b[0;36mSeriesApply.apply_standard\u001b[0;34m(self)\u001b[0m\n\u001b[1;32m   1074\u001b[0m     \u001b[38;5;28;01melse\u001b[39;00m:\n\u001b[1;32m   1075\u001b[0m         values \u001b[38;5;241m=\u001b[39m obj\u001b[38;5;241m.\u001b[39mastype(\u001b[38;5;28mobject\u001b[39m)\u001b[38;5;241m.\u001b[39m_values\n\u001b[0;32m-> 1076\u001b[0m         mapped \u001b[38;5;241m=\u001b[39m \u001b[43mlib\u001b[49m\u001b[38;5;241;43m.\u001b[39;49m\u001b[43mmap_infer\u001b[49m\u001b[43m(\u001b[49m\n\u001b[1;32m   1077\u001b[0m \u001b[43m            \u001b[49m\u001b[43mvalues\u001b[49m\u001b[43m,\u001b[49m\n\u001b[1;32m   1078\u001b[0m \u001b[43m            \u001b[49m\u001b[43mf\u001b[49m\u001b[43m,\u001b[49m\n\u001b[1;32m   1079\u001b[0m \u001b[43m            \u001b[49m\u001b[43mconvert\u001b[49m\u001b[38;5;241;43m=\u001b[39;49m\u001b[38;5;28;43mself\u001b[39;49m\u001b[38;5;241;43m.\u001b[39;49m\u001b[43mconvert_dtype\u001b[49m\u001b[43m,\u001b[49m\n\u001b[1;32m   1080\u001b[0m \u001b[43m        \u001b[49m\u001b[43m)\u001b[49m\n\u001b[1;32m   1082\u001b[0m \u001b[38;5;28;01mif\u001b[39;00m \u001b[38;5;28mlen\u001b[39m(mapped) \u001b[38;5;129;01mand\u001b[39;00m \u001b[38;5;28misinstance\u001b[39m(mapped[\u001b[38;5;241m0\u001b[39m], ABCSeries):\n\u001b[1;32m   1083\u001b[0m     \u001b[38;5;66;03m# GH#43986 Need to do list(mapped) in order to get treated as nested\u001b[39;00m\n\u001b[1;32m   1084\u001b[0m     \u001b[38;5;66;03m#  See also GH#25959 regarding EA support\u001b[39;00m\n\u001b[1;32m   1085\u001b[0m     \u001b[38;5;28;01mreturn\u001b[39;00m obj\u001b[38;5;241m.\u001b[39m_constructor_expanddim(\u001b[38;5;28mlist\u001b[39m(mapped), index\u001b[38;5;241m=\u001b[39mobj\u001b[38;5;241m.\u001b[39mindex)\n",
      "File \u001b[0;32m~/miniconda3/envs/digitrubber/lib/python3.11/site-packages/pandas/_libs/lib.pyx:2834\u001b[0m, in \u001b[0;36mpandas._libs.lib.map_infer\u001b[0;34m()\u001b[0m\n",
      "File \u001b[0;32m~/miniconda3/envs/digitrubber/lib/python3.11/site-packages/pandas/core/apply.py:133\u001b[0m, in \u001b[0;36mApply.__init__.<locals>.f\u001b[0;34m(x)\u001b[0m\n\u001b[1;32m    132\u001b[0m \u001b[38;5;28;01mdef\u001b[39;00m \u001b[38;5;21mf\u001b[39m(x):\n\u001b[0;32m--> 133\u001b[0m     \u001b[38;5;28;01mreturn\u001b[39;00m \u001b[43mfunc\u001b[49m\u001b[43m(\u001b[49m\u001b[43mx\u001b[49m\u001b[43m,\u001b[49m\u001b[43m \u001b[49m\u001b[38;5;241;43m*\u001b[39;49m\u001b[43margs\u001b[49m\u001b[43m,\u001b[49m\u001b[43m \u001b[49m\u001b[38;5;241;43m*\u001b[39;49m\u001b[38;5;241;43m*\u001b[39;49m\u001b[43mkwargs\u001b[49m\u001b[43m)\u001b[49m\n",
      "Cell \u001b[0;32mIn[43], line 29\u001b[0m, in \u001b[0;36mis_close_labels\u001b[0;34m(text, text_l, func)\u001b[0m\n\u001b[1;32m     28\u001b[0m \u001b[38;5;28;01mdef\u001b[39;00m \u001b[38;5;21mis_close_labels\u001b[39m(text, text_l, func):\n\u001b[0;32m---> 29\u001b[0m     close_label_list \u001b[38;5;241m=\u001b[39m \u001b[43m[\u001b[49m\u001b[43mi\u001b[49m\u001b[43m \u001b[49m\u001b[38;5;28;43;01mfor\u001b[39;49;00m\u001b[43m \u001b[49m\u001b[43mi\u001b[49m\u001b[43m \u001b[49m\u001b[38;5;129;43;01min\u001b[39;49;00m\u001b[43m \u001b[49m\u001b[43mtext_l\u001b[49m\u001b[43m \u001b[49m\u001b[38;5;28;43;01mif\u001b[39;49;00m\u001b[43m \u001b[49m\u001b[38;5;28;43many\u001b[39;49m\u001b[43m(\u001b[49m\u001b[43mfunc\u001b[49m\u001b[43m(\u001b[49m\u001b[43mtext\u001b[49m\u001b[43m,\u001b[49m\u001b[43m \u001b[49m\u001b[43mi\u001b[49m\u001b[43m)\u001b[49m\u001b[43m)\u001b[49m\u001b[43m]\u001b[49m\n\u001b[1;32m     30\u001b[0m     \u001b[38;5;28;01mreturn\u001b[39;00m \u001b[38;5;28;01mFalse\u001b[39;00m \u001b[38;5;28;01mif\u001b[39;00m \u001b[38;5;28mlen\u001b[39m(close_label_list) \u001b[38;5;241m>\u001b[39m \u001b[38;5;241m0\u001b[39m \u001b[38;5;28;01melse\u001b[39;00m \u001b[38;5;28;01mTrue\u001b[39;00m\n",
      "Cell \u001b[0;32mIn[43], line 29\u001b[0m, in \u001b[0;36m<listcomp>\u001b[0;34m(.0)\u001b[0m\n\u001b[1;32m     28\u001b[0m \u001b[38;5;28;01mdef\u001b[39;00m \u001b[38;5;21mis_close_labels\u001b[39m(text, text_l, func):\n\u001b[0;32m---> 29\u001b[0m     close_label_list \u001b[38;5;241m=\u001b[39m [i \u001b[38;5;28;01mfor\u001b[39;00m i \u001b[38;5;129;01min\u001b[39;00m text_l \u001b[38;5;28;01mif\u001b[39;00m \u001b[38;5;28many\u001b[39m(func(text, i))]\n\u001b[1;32m     30\u001b[0m     \u001b[38;5;28;01mreturn\u001b[39;00m \u001b[38;5;28;01mFalse\u001b[39;00m \u001b[38;5;28;01mif\u001b[39;00m \u001b[38;5;28mlen\u001b[39m(close_label_list) \u001b[38;5;241m>\u001b[39m \u001b[38;5;241m0\u001b[39m \u001b[38;5;28;01melse\u001b[39;00m \u001b[38;5;28;01mTrue\u001b[39;00m\n",
      "\u001b[0;31mTypeError\u001b[0m: 'bool' object is not iterable"
     ]
    }
   ],
   "source": [
    "# Merging all csvs by luis\n",
    "'''df_csv1 = pd.read_csv(csv_file1, encoding='utf-8').dropna(axis=0, how='all').dropna(axis=1, how='all')\n",
    "df_csv2 = pd.read_csv(csv_file2, encoding='utf-8').dropna(axis=0, how='all').dropna(axis=1, how='all')\n",
    "df_csv3 = pd.read_csv(csv_file3, encoding='utf-8').dropna(axis=0, how='all').dropna(axis=1, how='all')\n",
    "df_csv4 = pd.read_csv(csv_file4, encoding='utf-8').dropna(axis=0, how='all').dropna(axis=1, how='all')\n",
    "df_csv5 = pd.read_csv(csv_file5, encoding='utf-8').dropna(axis=0, how='all').dropna(axis=1, how='all')\n",
    "df_csv6 = pd.read_csv(csv_file5, encoding='utf-8').dropna(axis=0, how='all').dropna(axis=1, how='all')\n",
    "df_merg = pd.concat([df_csv1, df_csv2, df_csv3, df_csv4, df_csv5, df_csv6], ignore_index=True)\n",
    "df_merg.to_csv('./csvs/merged_csvs.csv', index=False, encoding='utf-8')'''\n",
    "\n",
    "merged_csv_akh = './csvs/merged_csvs.csv'\n",
    "merged_csv_luis = './csvs/digitrubber_robot_v4.csv'\n",
    "csv_close_label7 = './csvs_close_label/merged_csv_digitrubber_robot_v4.csv'\n",
    "add_close_labels(read_csv(merged_csv_akh), read_csv(merged_csv_luis), csv_close_label7, func=measure_similarity1)"
   ]
  },
  {
   "cell_type": "code",
   "execution_count": 24,
   "id": "6571572f-4a96-4cc5-a3d2-3d12e45617a1",
   "metadata": {
    "tags": []
   },
   "outputs": [],
   "source": []
  },
  {
   "cell_type": "code",
   "execution_count": null,
   "id": "53a440d0-6017-45d4-8cf0-9e3779e5e70f",
   "metadata": {},
   "outputs": [],
   "source": [
    " "
   ]
  }
 ],
 "metadata": {
  "kernelspec": {
   "display_name": "Python 3 (ipykernel)",
   "language": "python",
   "name": "python3"
  },
  "language_info": {
   "codemirror_mode": {
    "name": "ipython",
    "version": 3
   },
   "file_extension": ".py",
   "mimetype": "text/x-python",
   "name": "python",
   "nbconvert_exporter": "python",
   "pygments_lexer": "ipython3",
   "version": "3.11.2"
  }
 },
 "nbformat": 4,
 "nbformat_minor": 5
}
