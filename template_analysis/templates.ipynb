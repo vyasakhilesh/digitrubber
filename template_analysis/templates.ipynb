{
 "cells": [
  {
   "cell_type": "code",
   "execution_count": 6,
   "id": "f309430e-d5c5-4141-8e85-72424778b25f",
   "metadata": {
    "tags": []
   },
   "outputs": [],
   "source": [
    "import pandas as pd\n",
    "import numpy as np\n",
    "from pathlib import Path\n",
    "from nltk import word_tokenize\n",
    "from Levenshtein import distance\n",
    "import re"
   ]
  },
  {
   "cell_type": "code",
   "execution_count": 7,
   "id": "c48bddff-a79c-423d-8531-eba29edc894a",
   "metadata": {
    "tags": []
   },
   "outputs": [
    {
     "data": {
      "text/plain": [
       "PosixPath('/home/avyas/projects/project_off/digitrubber/template_analysis/../src/templates')"
      ]
     },
     "execution_count": 7,
     "metadata": {},
     "output_type": "execute_result"
    }
   ],
   "source": [
    "# settings\n",
    "pd.options.display.max_columns=1000\n",
    "pd.options.display.max_colwidth=None\n",
    "pd.options.display.max_rows=100\n",
    "\n",
    "# path\n",
    "temp_dir = Path('../src/templates/')\n",
    "temp_dir.absolute()"
   ]
  },
  {
   "cell_type": "code",
   "execution_count": 13,
   "id": "aebf51b9-335c-40e7-98bd-cf8160dd6518",
   "metadata": {
    "scrolled": true,
    "tags": []
   },
   "outputs": [],
   "source": [
    "# jaccard distance\n",
    "def jaccard_similarity(list1, list2):\n",
    "    intersection = len(list(set(list1).intersection(list2)))\n",
    "    union = (len(list1) + len(list2)) - intersection\n",
    "    return float(intersection) / union\n",
    "\n",
    "# list of closest labels\n",
    "def measure_similarity(text1, text2):\n",
    "    if type(text1) ==  str and type(text2) ==str:\n",
    "        text1 = text1.strip().lower()\n",
    "        text2 = re.sub('\\[.*\\]', '', text2).strip().lower()\n",
    "        s1 = jaccard_similarity(word_tokenize(text1), word_tokenize(text2)) > 0.8\n",
    "        s2 = distance(text1.lower(), text2.lower()) < 4\n",
    "        return (s1, s2)\n",
    "    else:\n",
    "        return False\n",
    "\n",
    "def measure_similarity1(text1, text2):\n",
    "    if type(text1) ==  str and type(text2) ==str:\n",
    "        text1 = text1.strip().lower()\n",
    "        text2 = text2.strip().lower()\n",
    "        s1 = jaccard_similarity(word_tokenize(text1), word_tokenize(text2)) > 0.8\n",
    "        s2 = distance(text1.lower(), text2.lower()) < 4\n",
    "        return (s1, s2)\n",
    "    else:\n",
    "        return False\n",
    "\n",
    "def is_close_labels(text, text_l, func):\n",
    "    try:\n",
    "        # print (text, \"  ############  \" ,text_l)\n",
    "        close_label_list = [i for i in text_l if any(func(text, i))]\n",
    "        return False if len(close_label_list) > 0 else True\n",
    "    except Exception as e:\n",
    "        print('Error:', e)\n",
    "        return True\n",
    "\n",
    "def find_very_close_labels(text, text_l, func):\n",
    "    try:\n",
    "        close_label_list = [i for i in text_l if all(func(text, i))]\n",
    "        return close_label_list if len(close_label_list) > 0 else np.nan\n",
    "    except Exception as e:\n",
    "        print('Error:', e)\n",
    "        return True\n",
    "\n",
    "def find_close_labels(text, text_l, func):\n",
    "    try:\n",
    "        close_label_list = [i for i in text_l if any(func(text, i))]\n",
    "        return close_label_list if len(close_label_list) > 0 else np.nan\n",
    "    except Exception as e:\n",
    "        print('Error:', e)\n",
    "        return True\n",
    "\n",
    "def read_excel(excel_file):\n",
    "    df_excel = pd.read_excel(excel_file, header=1).dropna(axis=0, how='all')\n",
    "    df_excel = df_excel.dropna(axis=1, how='all')\n",
    "    return df_excel\n",
    "\n",
    "def read_csv(csv_file):\n",
    "    df_csv = pd.read_csv(csv_file, encoding='utf-8').dropna(axis=0, how='all')\n",
    "    df_csv = df_csv.dropna(axis=1, how='all')\n",
    "    return df_csv\n",
    "    \n",
    "\n",
    "def add_close_labels(df_excel, df_csv, csv_close_label, label_excel='Label', label_csv='Label', func=measure_similarity, label_pos=1):\n",
    "    # preprocessing files\n",
    "    df_excel[label_excel] = df_excel[label_excel].fillna(method='ffill')\n",
    "    df_excel['Missing'] = df_excel[label_excel]\\\n",
    "                              .apply(is_close_labels, args=(df_csv[label_csv].dropna(),func))\n",
    "    \n",
    "    df_excel['VeryCloseLabelStrings'] = df_excel[label_excel]\\\n",
    "                              .apply(find_very_close_labels, args=(df_csv[label_csv].dropna(),func))\n",
    "    \n",
    "    df_excel['CloseLabelStrings'] = df_excel[label_excel]\\\n",
    "                              .apply(find_close_labels, args=(df_csv[label_csv].dropna(),func))\n",
    "    columns = df_excel.columns.tolist()\n",
    "    df_excel = df_excel[columns[0:label_pos]+ columns[-3:]+columns[label_pos:-3]]\n",
    "\n",
    "    df_excel.to_csv(csv_close_label, encoding='utf-8', index=False)\n"
   ]
  },
  {
   "cell_type": "code",
   "execution_count": 9,
   "id": "b700be7e-34a1-490c-9315-5005e82748d3",
   "metadata": {
    "tags": []
   },
   "outputs": [],
   "source": [
    "# excel and template files path\n",
    "excel_file1 = './excels/dict_dik_v3.xlsx'\n",
    "csv_file1 = './csvs/dik_template_16_09.csv' \n",
    "csv_close_label1 = './csvs_close_label/dik_v3_template_16_09.csv'\n",
    "add_close_labels(read_excel(excel_file1), read_csv(csv_file1), csv_close_label1, 'Label [English]')\n",
    "\n",
    "# excel and template files path\n",
    "excel_file2 = './excels/dict_hsh_V2.xlsx'\n",
    "csv_file2 = './csvs/robot_hsh_template_13_09.csv' \n",
    "csv_close_label2 = './csvs_close_label/hsh_v2_template_13_09.csv'\n",
    "add_close_labels(excel_file2, csv_file2, csv_close_label2)\n",
    "\n",
    "# excel and template files path\n",
    "excel_file3 = './excels/dict_ifnano_V2.xlsx'\n",
    "csv_file3 = './csvs/robot_ifnano_template_30_08.csv' \n",
    "csv_close_label3 = './csvs_close_label/infnano_v2_template_30_08.csv'\n",
    "add_close_labels(excel_file3, csv_file3, csv_close_label3)\n",
    "\n",
    "# excel and template files path\n",
    "excel_file4 = './excels/dict_imr_V2.xlsx'\n",
    "csv_file4 = './csvs/robot_imr_template_08_09.csv' \n",
    "csv_close_label4 = './csvs_close_label/imr_v2_template_08_09.csv'\n",
    "add_close_labels(excel_file4, csv_file4, csv_close_label4)\n",
    "\n",
    "# excel and template files path\n",
    "excel_file5 = './excels/dict_ita_V2.xlsx'\n",
    "csv_file5 = './csvs/robot_ita_template_02_06.csv' \n",
    "csv_close_label5 = './csvs_close_label/ita_v2_template_02_06.csv'\n",
    "add_close_labels(excel_file5, csv_file5, csv_close_label5)\n",
    "\n",
    "# excel and template files path\n",
    "excel_file6 = './excels/dict_jade_V2.xlsx'\n",
    "csv_file6 = './csvs/robot_jade_template_09_06.csv' \n",
    "csv_close_label6 = './csvs_close_label/jade_v2_template_09_06.csv'\n",
    "add_close_labels(read_excel(excel_file6), read_csv(csv_file6), csv_close_label6)"
   ]
  },
  {
   "cell_type": "code",
   "execution_count": 10,
   "id": "48cd8151-5410-458e-a1f6-d9de61e2c123",
   "metadata": {
    "tags": []
   },
   "outputs": [],
   "source": [
    "# Merging all csvs by luis\n",
    "df_csv1 = pd.read_csv(csv_file1, encoding='utf-8').dropna(axis=0, how='all').dropna(axis=1, how='all')\n",
    "df_csv2 = pd.read_csv(csv_file2, encoding='utf-8').dropna(axis=0, how='all').dropna(axis=1, how='all')\n",
    "df_csv3 = pd.read_csv(csv_file3, encoding='utf-8').dropna(axis=0, how='all').dropna(axis=1, how='all')\n",
    "df_csv4 = pd.read_csv(csv_file4, encoding='utf-8').dropna(axis=0, how='all').dropna(axis=1, how='all')\n",
    "df_csv5 = pd.read_csv(csv_file5, encoding='utf-8').dropna(axis=0, how='all').dropna(axis=1, how='all')\n",
    "df_csv6 = pd.read_csv(csv_file5, encoding='utf-8').dropna(axis=0, how='all').dropna(axis=1, how='all')\n",
    "df_merg = pd.concat([df_csv1, df_csv2, df_csv3, df_csv4, df_csv5, df_csv6], ignore_index=True)\n",
    "df_merg.drop_duplicates(inplace=True)\n",
    "df_merg.to_csv('./csvs/merged_csvs.csv', index=False, encoding='utf-8')\n",
    "df_merg.sort_values(by=['SubClass', 'Label', 'Label.1'], inplace=True)\n",
    "df_merg.to_csv('./csvs/merged_csvs_sorted.csv', index=False, encoding='utf-8')"
   ]
  },
  {
   "cell_type": "code",
   "execution_count": 14,
   "id": "6571572f-4a96-4cc5-a3d2-3d12e45617a1",
   "metadata": {
    "tags": []
   },
   "outputs": [],
   "source": [
    "merged_csv_akh = './csvs/merged_csvs_sorted.csv'\n",
    "merged_csv_luis = './csvs/digitrubber_robot_v4.csv'\n",
    "csv_close_label7 = './csvs_close_label/merged_csv_digitrubber_robot_v4.csv'\n",
    "add_close_labels(read_csv(merged_csv_akh), read_csv(merged_csv_luis), csv_close_label7, func=measure_similarity1, label_pos=2)"
   ]
  },
  {
   "cell_type": "code",
   "execution_count": 17,
   "id": "5bc338ff-d86d-40dd-b930-de01772b5aa4",
   "metadata": {
    "tags": []
   },
   "outputs": [
    {
     "data": {
      "text/plain": [
       "(Index(['Label [English]', 'Label [Deutsch]', 'Definition [English]',\n",
       "        'Definition [Deutsch]', 'Parent Class', 'Denotation/symbol/acronym',\n",
       "        'Synonyms [English]', 'Synonyms [Deutsch]', 'identifier',\n",
       "        'Notes [English]', 'Notes [Deutsch]', 'Example of usage',\n",
       "        'Classification', 'Creator/Contributors', 'Created on',\n",
       "        'Last updated on', 'Source (of Knowledge/definition)',\n",
       "        'defined by ontology', 'imported from', 'language', 'curation status'],\n",
       "       dtype='object'),\n",
       " Index(['Label', 'Label German', 'Definition', 'Notes', 'Example of usage',\n",
       "        'Synonyms', 'Classification', 'Creator/Contributors', 'Created on',\n",
       "        'Last updated on', 'Source (of Knowledge/definition)',\n",
       "        'defined by ontology', 'imported from', 'language', 'curation status'],\n",
       "       dtype='object'),\n",
       " Index(['Label', 'Definition', 'Notes', 'Example of usage', 'Synonyms',\n",
       "        'Classification', 'Denotation/symbol/acronym', 'Units',\n",
       "        'Creator/Contributors', 'Created on', 'Last updated on',\n",
       "        'Source (of Knowledge/definition)', 'defined by ontology',\n",
       "        'imported from', 'language', 'curation status', 'relevant to CQ'],\n",
       "       dtype='object'),\n",
       " Index(['Label', 'Definition', 'Notes', 'Example of usage', 'Synonyms',\n",
       "        'Classification', 'Units', 'Last updated on',\n",
       "        'Source (of Knowledge/definition)', 'defined by ontology',\n",
       "        'imported from', 'language', 'curation status'],\n",
       "       dtype='object'),\n",
       " Index(['Label', 'Label (German)', 'Definition', 'Notes', 'Example of usage',\n",
       "        'Synonyms', 'Classification', 'Creator/Contributors', 'Created on',\n",
       "        'Last updated on', 'Source (of Knowledge/definition)',\n",
       "        'defined by ontology', 'imported from', 'language', 'curation status'],\n",
       "       dtype='object'),\n",
       " Index(['Label', 'Definition', 'Notes', 'Example of usage', 'Synonyms',\n",
       "        'Classification', 'Source (of Knowledge/definition)',\n",
       "        'defined by ontology', 'imported from', 'language'],\n",
       "       dtype='object'))"
      ]
     },
     "execution_count": 17,
     "metadata": {},
     "output_type": "execute_result"
    }
   ],
   "source": [
    "read_excel(excel_file1).columns ,read_excel(excel_file2).columns, read_excel(excel_file3).columns, read_excel(excel_file4).columns, read_excel(excel_file5).columns, read_excel(excel_file6).columns"
   ]
  },
  {
   "cell_type": "code",
   "execution_count": 42,
   "id": "0438e101-5138-4b85-befb-ff9ba80d1862",
   "metadata": {
    "tags": []
   },
   "outputs": [
    {
     "data": {
      "text/plain": [
       "['Classification',\n",
       " 'Created on',\n",
       " 'Creator/Contributors',\n",
       " 'curation status',\n",
       " 'defined by ontology',\n",
       " 'Definition',\n",
       " 'Definition [Deutsch]',\n",
       " 'Definition [English]',\n",
       " 'Denotation/symbol/acronym',\n",
       " 'Example of usage',\n",
       " 'identifier',\n",
       " 'imported from',\n",
       " 'Label',\n",
       " 'Label (German)',\n",
       " 'Label [Deutsch]',\n",
       " 'Label [English]',\n",
       " 'Label German',\n",
       " 'language',\n",
       " 'Last updated on',\n",
       " 'Notes',\n",
       " 'Notes [Deutsch]',\n",
       " 'Notes [English]',\n",
       " 'Parent Class',\n",
       " 'relevant to CQ',\n",
       " 'Source (of Knowledge/definition)',\n",
       " 'Synonyms',\n",
       " 'Synonyms [Deutsch]',\n",
       " 'Synonyms [English]',\n",
       " 'Units']"
      ]
     },
     "execution_count": 42,
     "metadata": {},
     "output_type": "execute_result"
    }
   ],
   "source": [
    "# All type of Columns in Excel\n",
    "sorted(set([j for i in [read_excel(globals()['excel_file'+'{}'.format(i)]).columns.tolist() for i in range(1,7)] for j in i]), key=str.lower)\n"
   ]
  },
  {
   "cell_type": "code",
   "execution_count": 46,
   "id": "da31c945-7654-4293-af7e-40ef5c9f5005",
   "metadata": {
    "tags": []
   },
   "outputs": [
    {
     "name": "stdout",
     "output_type": "stream",
     "text": [
      "['Comment [English]', 'DateSubmitted', 'Definition [English]', 'Definition Source', 'Imported From', 'Label [English]', 'Label [German]', 'Parent Class', 'SubClassID', 'Synonyms [English]']\n"
     ]
    }
   ],
   "source": [
    "df_luis = pd.read_csv('./csvs/digitrubber_robot_v4.csv', encoding='utf-8')\n",
    "\n",
    "rename_col_dict = {'SubClass': 'SubClassID', 'Label':'Label [English]', 'Label.1': 'Label [German]', 'Class':'Parent Class', 'Definition': 'Definition [English]', 'imported from':'Imported From',\n",
    "       'definition source': 'Definition Source', 'comments': 'Comment [English]', 'Synonyms': 'Synonyms [English]', 'dateSubmitted': 'DateSubmitted'}\n",
    "\n",
    "df_luis.rename(columns=rename_col_dict)\n",
    "print (sorted(rename_col_dict.values(), key=str.lower))\n",
    "\n",
    "df_luis['Classification'] = np.nan\n",
    "df_luis['Comment [English]'] = df_luis['Comment [English]'] # Notes [English]\n",
    "df_luis['Comment [German]'] = np.nan # Notes [Deutsch]\n",
    "df_luis['Created On'] = np.nan\n",
    "df_luis['Creator and Contributors'] = np.nan\n",
    "df_luis['Curation Status'] = np.nan\n",
    "df_luis['DateSubmitted'] = df_luis['DateSubmitted']\n",
    "df_luis['Define by Ontology'] = np.nan\n",
    "df_luis['Definition [English]' = df_luis['Definition [English]']\n",
    "df_luis['Definition [German]'] = np.nan\n",
    "df_luis['Definition Source' = df_luis['Definition Source']\n",
    "df_luis['Identifier'] = np.nan\n",
    "df_luis['Imported From', = df_luis['Imported From']\n",
    "df_luis['Label [English]' = df_luis['Label [English]']\n",
    "df_luis['Label [German]' = df_luis['Label [German]']\n",
    "df_luis['Parent Class' = df_luis['Parent Class']\n",
    "df_luis['SubClassID' = df_luis['SubClassID']\n",
    "df_luis['Synonyms [English]' = df_luis['Synonyms [English]']\n",
    "\n",
    "#df_luis[]\n",
    "       "
   ]
  },
  {
   "cell_type": "code",
   "execution_count": null,
   "id": "1b804965-5cb4-4672-ae66-242809224216",
   "metadata": {},
   "outputs": [],
   "source": []
  }
 ],
 "metadata": {
  "kernelspec": {
   "display_name": "Python 3 (ipykernel)",
   "language": "python",
   "name": "python3"
  },
  "language_info": {
   "codemirror_mode": {
    "name": "ipython",
    "version": 3
   },
   "file_extension": ".py",
   "mimetype": "text/x-python",
   "name": "python",
   "nbconvert_exporter": "python",
   "pygments_lexer": "ipython3",
   "version": "3.11.2"
  }
 },
 "nbformat": 4,
 "nbformat_minor": 5
}
